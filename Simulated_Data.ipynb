{
  "cells": [
    {
      "cell_type": "markdown",
      "metadata": {
        "id": "RGRwpY6glRgL"
      },
      "source": [
        "# Introduction"
      ]
    },
    {
      "cell_type": "markdown",
      "metadata": {
        "id": "i0gIDb6VlRgN"
      },
      "source": [
        "## Table of Contents"
      ]
    },
    {
      "cell_type": "markdown",
      "metadata": {
        "id": "xF9XkVmhlRgN"
      },
      "source": [
        "1. Overview\n",
        "2. Fake Data\n",
        "    - What is it?\n",
        "    - Why is it useful?\n",
        "    - How do we create it?\n",
        "3. Synthetic Data\n",
        "    - What is it?\n",
        "    - Why is it useful?\n",
        "    - How do we create it?\n",
        "4. Generative Data\n",
        "    - What is it?\n",
        "    - Why is it useful?\n",
        "    - How do we create it?\n",
        "5. Final Thoughts\n",
        "6. Exercises"
      ]
    },
    {
      "cell_type": "markdown",
      "metadata": {
        "id": "_g231be-lRgN"
      },
      "source": [
        "## 1. Overview"
      ]
    },
    {
      "cell_type": "markdown",
      "metadata": {
        "id": "c6R2GX8zlRgN"
      },
      "source": [
        "Data plays a pivotal role in numerous fields, but obtaining real-world data can be challenging due\n",
        "to privacy concerns, limited access, or high costs. To address these issues, various data generation\n",
        "techniques have emerged. This notebook provides insights into three key methods: Synthetic Data, Fake\n",
        "Data, and Data Generated from Generative Machine Learning Models.\n",
        "\n",
        "In the following sections, we'll dive deeper into the three kinds of data generation techniques."
      ]
    },
    {
      "cell_type": "markdown",
      "metadata": {
        "id": "Xmqn1ix1lRgN"
      },
      "source": [
        "## 2. Fake Data"
      ]
    },
    {
      "cell_type": "markdown",
      "metadata": {
        "id": "V7uskkePlRgO"
      },
      "source": [
        "### What is Fake Data?\n",
        "\n",
        "Fake data refers to any data that is artificially generated rather than collected from real-world sources. It is made up data.\n",
        "\n",
        "### Why is it useful?\n",
        "\n",
        "Fake data can be useful for a variety of purposes including Testing systems or applications without needing\n",
        "real data, populating databases when real data is not available, training machine learning models as a stand-in\n",
        "for real data, and anything that requires dummy data for placeholders.\n",
        "\n",
        "The main advantage of using fake data is that it protects privacy since no real personal information is\n",
        "exposed. It also provides flexibility since the data can be generated on demand.\n",
        "\n",
        "### How do we create it?\n",
        "\n",
        "To start using fake data, we need to identify the types of data needed (names, addresses, images etc.) and\n",
        "find a fake data generator that suits our needs. For our use case, we'll use `mimesis`, \"an effective Python\n",
        "library for populating databases, creating intricate JSON/XML files, anonymizing productive service data, and\n",
        "generating high-quality Pandas dataframes.\"\n",
        "\n",
        "Let's walk through a few examples using mimesis."
      ]
    },
    {
      "cell_type": "code",
      "source": [
        "pip install mimesis"
      ],
      "metadata": {
        "id": "RnYrpFj4lfV8"
      },
      "execution_count": null,
      "outputs": []
    },
    {
      "cell_type": "code",
      "execution_count": null,
      "metadata": {
        "id": "HRFbLk3HlRgO"
      },
      "outputs": [],
      "source": [
        "from mimesis import Person, Datetime, Text, Generic\n",
        "from mimesis.locales import Locale\n",
        "from mimesis.enums import Gender"
      ]
    },
    {
      "cell_type": "code",
      "execution_count": null,
      "metadata": {
        "id": "5EIP8pizlRgP"
      },
      "outputs": [],
      "source": [
        "person = Person(Locale.EN)\n"
      ]
    },
    {
      "cell_type": "code",
      "source": [
        "person??"
      ],
      "metadata": {
        "id": "hAF_C9Fjlxtk"
      },
      "execution_count": null,
      "outputs": []
    },
    {
      "cell_type": "code",
      "execution_count": null,
      "metadata": {
        "id": "rR9jWRtAlRgP"
      },
      "outputs": [],
      "source": [
        "person.full_name(gender=Gender.MALE)"
      ]
    },
    {
      "cell_type": "code",
      "execution_count": null,
      "metadata": {
        "id": "ChEg09BxlRgP"
      },
      "outputs": [],
      "source": [
        "person.full_name(gender=Gender.MALE)"
      ]
    },
    {
      "cell_type": "code",
      "execution_count": null,
      "metadata": {
        "id": "po7M_3PPlRgP"
      },
      "outputs": [],
      "source": [
        "person = Person(Locale.DE)\n",
        "datetime = Datetime(Locale.DE)\n",
        "text = Text(Locale.DE)\n",
        "\n",
        "print(f\"Person: {person.full_name()}; Date-Time: {datetime.date()}; Text: {text.quote()};\")"
      ]
    },
    {
      "cell_type": "code",
      "execution_count": null,
      "metadata": {
        "id": "yF2JcQG3lRgP"
      },
      "outputs": [],
      "source": [
        "generic = Generic(locale=Locale.EN)\n",
        "generic.person.username()"
      ]
    },
    {
      "cell_type": "code",
      "execution_count": null,
      "metadata": {
        "id": "WLQQm_bzlRgQ"
      },
      "outputs": [],
      "source": [
        "generic.datetime.date()"
      ]
    },
    {
      "cell_type": "code",
      "execution_count": null,
      "metadata": {
        "id": "-W3LXyzXlRgQ"
      },
      "outputs": [],
      "source": [
        "p_en = Person(Locale.EN)\n",
        "p_sv = Person(Locale.SV)\n",
        "p_en.full_name(), p_sv.full_name()"
      ]
    },
    {
      "cell_type": "code",
      "execution_count": null,
      "metadata": {
        "id": "i5Qro-F3lRgQ"
      },
      "outputs": [],
      "source": [
        "g = Generic(locale=Locale.ES)\n",
        "g.datetime.month(), g.code.imei(), g.food.fruit()"
      ]
    },
    {
      "cell_type": "markdown",
      "metadata": {
        "id": "99-xq3nclRgQ"
      },
      "source": [
        "## 3. Synthetic Data"
      ]
    },
    {
      "cell_type": "markdown",
      "metadata": {
        "id": "38wEAzrDlRgQ"
      },
      "source": [
        "### What is Synthetic Data?\n",
        "\n",
        "Synthetic data is artificially generated to mimic real-world data. It is based on statistical analysis of real data.\n",
        "\n",
        "\n",
        "### Why is it useful?\n",
        "\n",
        "Synthetic data can be useful for augmenting small real datasets for training machine learning models, running\n",
        "simulations when real data is not available or very minimal, testing systems and models without exposing\n",
        "sensitive real data, sharing datasets while preserving privacy.\n",
        "\n",
        "The key advantage of synthetic data is it looks and behaves like real data but does not contain private\n",
        "information. It also lets you generate large datasets even with a small sample of real data.\n",
        "\n",
        "### How do we create it?\n",
        "\n",
        "To start using synthetic data:\n",
        "- Collect a sample of real representative data.\n",
        "- Analyze statistics like distributions, correlations, etc.\n",
        "- Use a synthetic data generator with those stats to simulate distribution of your variables.\n",
        "- Validate that the synthetic data matches real data.\n",
        "\n",
        "Iterate by tweaking the data generation process until the synthetic data is realistic.\n",
        "\n",
        "In essence, synthetic data provides a blueprint of real data without the bricks and mortar of actual\n",
        "details. Like a movie set, it creates the illusion of reality from analysis of the real thing. Synthetic\n",
        "data lets you mimic and scale real-world data more safely.\n",
        "\n",
        "Let's walk through a few examples using the synthetic data vault (`svd`) Python package."
      ]
    },
    {
      "cell_type": "markdown",
      "metadata": {
        "id": "KpmQb3JclRgQ"
      },
      "source": []
    },
    {
      "cell_type": "code",
      "source": [
        "pip install sdv"
      ],
      "metadata": {
        "id": "da1occ5Wa_lq"
      },
      "execution_count": null,
      "outputs": []
    },
    {
      "cell_type": "code",
      "execution_count": null,
      "metadata": {
        "id": "HmxT3WIBlRgQ"
      },
      "outputs": [],
      "source": [
        "from sdv.lite import SingleTablePreset\n",
        "from sdv.datasets.demo import download_demo\n",
        "from sdv.evaluation.single_table import get_column_plot, evaluate_quality, get_column_pair_plot"
      ]
    },
    {
      "cell_type": "code",
      "execution_count": null,
      "metadata": {
        "id": "wf-VSpNWlRgR"
      },
      "outputs": [],
      "source": [
        "real_data, metadata = download_demo(modality='single_table', dataset_name='fake_hotel_guests')"
      ]
    },
    {
      "cell_type": "code",
      "execution_count": null,
      "metadata": {
        "id": "fUYRNBBolRgR"
      },
      "outputs": [],
      "source": [
        "real_data.head()"
      ]
    },
    {
      "cell_type": "code",
      "execution_count": null,
      "metadata": {
        "id": "LFUg_wcflRgR"
      },
      "outputs": [],
      "source": [
        "metadata.visualize()"
      ]
    },
    {
      "cell_type": "code",
      "execution_count": null,
      "metadata": {
        "id": "xDO8pctplRgR"
      },
      "outputs": [],
      "source": [
        "synthesizer = SingleTablePreset(metadata, name='FAST_ML')"
      ]
    },
    {
      "cell_type": "code",
      "execution_count": null,
      "metadata": {
        "id": "BpKklnLxlRgR"
      },
      "outputs": [],
      "source": [
        "synthesizer.fit(data=real_data)"
      ]
    },
    {
      "cell_type": "code",
      "execution_count": null,
      "metadata": {
        "id": "RZRI7We1lRgR"
      },
      "outputs": [],
      "source": [
        "synthetic_data = synthesizer.sample(num_rows=500)\n",
        "synthetic_data.head()"
      ]
    },
    {
      "cell_type": "code",
      "execution_count": null,
      "metadata": {
        "id": "4Gq5APculRgR"
      },
      "outputs": [],
      "source": [
        "sensitive_column_names = ['guest_email', 'billing_address', 'credit_card_number']\n",
        "real_data[sensitive_column_names].head(3)"
      ]
    },
    {
      "cell_type": "code",
      "execution_count": null,
      "metadata": {
        "id": "HEJsS39qlRgR"
      },
      "outputs": [],
      "source": [
        "synthetic_data[sensitive_column_names].head(3)"
      ]
    },
    {
      "cell_type": "code",
      "execution_count": null,
      "metadata": {
        "id": "TokiIp70lRgR"
      },
      "outputs": [],
      "source": [
        "quality_report = evaluate_quality(real_data, synthetic_data, metadata)"
      ]
    },
    {
      "cell_type": "code",
      "execution_count": null,
      "metadata": {
        "id": "9Pq59n2ElRgR"
      },
      "outputs": [],
      "source": [
        "quality_report.get_visualization('Column Shapes')"
      ]
    },
    {
      "cell_type": "code",
      "execution_count": null,
      "metadata": {
        "id": "r5gF-CSklRgR"
      },
      "outputs": [],
      "source": [
        "fig = get_column_plot(real_data=real_data, synthetic_data=synthetic_data, column_name='amenities_fee', metadata=metadata)\n",
        "fig.show()"
      ]
    },
    {
      "cell_type": "code",
      "execution_count": null,
      "metadata": {
        "id": "wnzaDw5zlRgR"
      },
      "outputs": [],
      "source": [
        "fig = get_column_pair_plot(real_data=real_data, synthetic_data=synthetic_data, column_names=['checkin_date', 'checkout_date'], metadata=metadata)\n",
        "fig.show()"
      ]
    },
    {
      "cell_type": "code",
      "execution_count": null,
      "metadata": {
        "id": "kHbYGnA3lRgS"
      },
      "outputs": [],
      "source": [
        "synthesizer.save('my_synthesizer.pkl')\n",
        "synthesizer = SingleTablePreset.load('my_synthesizer.pkl')\n",
        "synthesizer.name"
      ]
    },
    {
      "cell_type": "markdown",
      "metadata": {
        "id": "QG51SJ1OlRgS"
      },
      "source": [
        "## 4. Generative Data"
      ]
    },
    {
      "cell_type": "markdown",
      "metadata": {
        "id": "gZo13qVmlRgS"
      },
      "source": [
        "### What is Synthetic Data?\n",
        "\n",
        "Generative models learn patterns from training data in order to generate new synthetic samples.\n",
        "\n",
        "Two popular kinds of models are diffusion and transformers. Diffusion models add noise to data\n",
        "and learn to gradually denoise it. Transformers predict sequence data using attention mechanisms.\n",
        "\n",
        "### Why is it useful?\n",
        "\n",
        "Generative models are useful for simple to high quality creative assets, synthetic training data (images,\n",
        "text, etc), or for data augmentation when we have limited samples.\n",
        "\n",
        "### How do we create it?\n",
        "\n",
        "To start with generative models:\n",
        "- Pick a pre-trained model from the Hugging Face model hub, PyTorch Hub, or any other hub available.\n",
        "- Play with it via the `transformers` or the `diffusers` library.\n",
        "- Find a dataset that interests you.\n",
        "- Fine-tune the model on your dataset.\n",
        "\n",
        "In essence, generative models are like artists studying the world and learning to mimic it. After\n",
        "observing enough data, they can synthesize new examples that capture the essence of their training. We\n",
        "guide them from imitation towards imagination."
      ]
    },
    {
      "cell_type": "code",
      "execution_count": null,
      "metadata": {
        "id": "9WAbgDMDlRgS"
      },
      "outputs": [],
      "source": [
        "from transformers import AutoModelForSeq2SeqLM, AutoTokenizer"
      ]
    },
    {
      "cell_type": "code",
      "execution_count": null,
      "metadata": {
        "id": "hnZmCh9clRgS"
      },
      "outputs": [],
      "source": [
        "checkpoint = \"bigscience/mt0-small\"\n",
        "\n",
        "tokenizer = AutoTokenizer.from_pretrained(checkpoint)\n",
        "model = AutoModelForSeq2SeqLM.from_pretrained(checkpoint)"
      ]
    },
    {
      "cell_type": "code",
      "execution_count": null,
      "metadata": {
        "id": "zkZXy3s4lRgS"
      },
      "outputs": [],
      "source": [
        "inputs = tokenizer.encode(\"Translate to English: Je t’aime.\", return_tensors=\"pt\")\n",
        "outputs = model.generate(inputs, max_new_tokens=100)\n",
        "print(tokenizer.decode(outputs[0]))"
      ]
    },
    {
      "cell_type": "markdown",
      "metadata": {
        "id": "FLgb5ey_lRgS"
      },
      "source": [
        "## 5. Final Thoughts"
      ]
    },
    {
      "cell_type": "markdown",
      "metadata": {
        "id": "tHq6jaiVlRgT"
      },
      "source": [
        "Understanding the benefits and drawbacks of synthetic data, fake data, and data generated by machine learning\n",
        "models is crucial in diverse fields. Whether for privacy-preserving research, testing applications, or\n",
        "creative content generation, these techniques offer valuable solutions to data-related challenges, fostering\n",
        "innovation and problem-solving in various domains, but they need to be used with care.\n",
        "\n",
        "\n",
        "To recap:\n",
        "\n",
        "Synthetic data refers to artificially generated data designed to mimic real-world data patterns and statistical properties without containing actual observations.\n",
        "- **Advantages:**\n",
        "  - **Privacy Preservation:** Ideal for scenarios where real data must be kept confidential.\n",
        "  - **Data Augmentation:** Useful for expanding datasets, especially in machine learning applications.\n",
        "- **Techniques:**\n",
        "  - **Statistical Modeling:** Generating data following statistical properties of real datasets.\n",
        "  - **Generative Adversarial Networks (GANs):** Complex neural networks capable of generating highly realistic data samples.\n",
        "- **Use Case:** Synthetic healthcare records for medical research without revealing sensitive patient information.\n",
        "\n",
        "Fake data is entirely fabricated information without any basis in reality.\n",
        "- **Characteristics:**\n",
        "  - **Randomness:** Generated using algorithms or random processes.\n",
        "  - **No Correlation:** Lacks any connection to real-world entities or events.\n",
        "- **Applications:**\n",
        "  - **Testing and Development:** Ideal for software testing scenarios where real data is unnecessary.\n",
        "  - **Mock Scenarios:** Creating fictional scenarios for storytelling or simulations.\n",
        "- **Example:** Dummy names, addresses, and phone numbers created for testing purposes.\n",
        "\n",
        "Data generated by advanced machine learning models, like Generative Adversarial Networks (GANs) or Transformer-based models, trained on real datasets to generate new, realistic data samples.\n",
        "- **Key Features:**\n",
        "  - **Complexity:** Captures intricate patterns, context, and nuances from the training data.\n",
        "  - **High Realism:** Produces data remarkably similar to real-world observations.\n",
        "- **Use Cases:**\n",
        "  - **Content Creation:** Generating realistic text, images, or multimedia content.\n",
        "  - **Data Imputation:** Filling missing values in real datasets with plausible synthetic data.\n",
        "- **Example:** Text passages generated by GPT-3 language models based on given prompts."
      ]
    },
    {
      "cell_type": "markdown",
      "metadata": {
        "id": "Z-VVvByLlRgT"
      },
      "source": [
        "## 6. Exercise"
      ]
    },
    {
      "cell_type": "markdown",
      "metadata": {
        "id": "3lXZHDvTlRgT"
      },
      "source": [
        "Exercise 1 - Generate Fake Names\n",
        "\n",
        "The mimesis Person() class can generate fake names. Import mimesis and initialize a person object:"
      ]
    },
    {
      "cell_type": "code",
      "execution_count": null,
      "metadata": {
        "id": "y8KnXnnOlRgT"
      },
      "outputs": [],
      "source": [
        "from mimesis import Person\n",
        "\n",
        "person = Person()"
      ]
    },
    {
      "cell_type": "markdown",
      "metadata": {
        "id": "ahURHyzolRgT"
      },
      "source": [
        "Generate a random first name:"
      ]
    },
    {
      "cell_type": "code",
      "execution_count": null,
      "metadata": {
        "id": "cKFSyxx1lRgT"
      },
      "outputs": [],
      "source": [
        "first_name = person.____()"
      ]
    },
    {
      "cell_type": "markdown",
      "metadata": {
        "id": "XobrCndclRgT"
      },
      "source": [
        "Generate a random last name:"
      ]
    },
    {
      "cell_type": "code",
      "execution_count": null,
      "metadata": {
        "id": "wCI0YzAhlRgT"
      },
      "outputs": [],
      "source": [
        "last_name = person.____()"
      ]
    },
    {
      "cell_type": "markdown",
      "metadata": {
        "id": "-uLyhbzVlRgT"
      },
      "source": [
        "Combine them into a full name and print the result."
      ]
    },
    {
      "cell_type": "code",
      "execution_count": null,
      "metadata": {
        "id": "UzMCqYV5lRgT"
      },
      "outputs": [],
      "source": [
        "full_name = first_name + \" \" + ______\n",
        "print(\"Generated name:\", ______)"
      ]
    },
    {
      "cell_type": "markdown",
      "metadata": {
        "id": "GYMsTXqdlRgT"
      },
      "source": [
        "Exercise 2 - Generate Fake Addresses\n",
        "\n",
        "The address class generates fake addresses. Import and initialize it:"
      ]
    },
    {
      "cell_type": "code",
      "execution_count": null,
      "metadata": {
        "id": "dIpkXIU5lRgU"
      },
      "outputs": [],
      "source": [
        "from mimesis import _____\n",
        "\n",
        "address = ______()"
      ]
    },
    {
      "cell_type": "markdown",
      "metadata": {
        "id": "ZFrwCTlVlRgU"
      },
      "source": [
        "Generate a random street name:"
      ]
    },
    {
      "cell_type": "code",
      "execution_count": null,
      "metadata": {
        "id": "CKtD0E9NlRgU"
      },
      "outputs": [],
      "source": [
        "street = ______.______()"
      ]
    },
    {
      "cell_type": "markdown",
      "metadata": {
        "id": "swdwHWtdlRgU"
      },
      "source": [
        "Generate a city name:"
      ]
    },
    {
      "cell_type": "code",
      "execution_count": null,
      "metadata": {
        "id": "QBOlZjUDlRgU"
      },
      "outputs": [],
      "source": [
        "city = ______.______()"
      ]
    },
    {
      "cell_type": "markdown",
      "metadata": {
        "id": "1j1BRlizlRgU"
      },
      "source": [
        "Combine into a full address:"
      ]
    },
    {
      "cell_type": "code",
      "execution_count": null,
      "metadata": {
        "id": "87iyXSEPlRgU"
      },
      "outputs": [],
      "source": [
        "full_address = ______ + \", \" + ______ + \", \" + address.______()\n",
        "print(\"Generated address:\")\n",
        "print(full_address)"
      ]
    }
  ],
  "metadata": {
    "kernelspec": {
      "display_name": "ml_svcs_p5",
      "language": "python",
      "name": "python3"
    },
    "language_info": {
      "codemirror_mode": {
        "name": "ipython",
        "version": 3
      },
      "file_extension": ".py",
      "mimetype": "text/x-python",
      "name": "python",
      "nbconvert_exporter": "python",
      "pygments_lexer": "ipython3",
      "version": "3.11.1"
    },
    "colab": {
      "provenance": []
    }
  },
  "nbformat": 4,
  "nbformat_minor": 0
}